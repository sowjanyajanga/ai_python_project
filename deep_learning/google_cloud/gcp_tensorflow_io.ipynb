{
 "cells": [
  {
   "cell_type": "code",
   "execution_count": null,
   "id": "c6dbcb2f",
   "metadata": {},
   "outputs": [],
   "source": [
    "# Reads data from a tensorflow datasource using tensorflow IO in batches\n",
    "#   so we do not have to hold on to all training data in memory.\n",
    "# We read data as it comes in batches using tensorflow IO and train the model"
   ]
  },
  {
   "cell_type": "code",
   "execution_count": 1,
   "id": "f119b504",
   "metadata": {},
   "outputs": [
    {
     "ename": "ModuleNotFoundError",
     "evalue": "No module named 'tensorflow'",
     "output_type": "error",
     "traceback": [
      "\u001b[0;31m---------------------------------------------------------------------------\u001b[0m",
      "\u001b[0;31mModuleNotFoundError\u001b[0m                       Traceback (most recent call last)",
      "Cell \u001b[0;32mIn[1], line 1\u001b[0m\n\u001b[0;32m----> 1\u001b[0m \u001b[38;5;28;01mimport\u001b[39;00m \u001b[38;5;21;01mtensorflow\u001b[39;00m \u001b[38;5;28;01mas\u001b[39;00m \u001b[38;5;21;01mtf\u001b[39;00m\n",
      "\u001b[0;31mModuleNotFoundError\u001b[0m: No module named 'tensorflow'"
     ]
    }
   ],
   "source": [
    "import tensorflow as tf"
   ]
  },
  {
   "cell_type": "code",
   "execution_count": 2,
   "id": "e7420343",
   "metadata": {},
   "outputs": [
    {
     "ename": "ModuleNotFoundError",
     "evalue": "No module named 'tensorflow_io'",
     "output_type": "error",
     "traceback": [
      "\u001b[0;31m---------------------------------------------------------------------------\u001b[0m",
      "\u001b[0;31mModuleNotFoundError\u001b[0m                       Traceback (most recent call last)",
      "Cell \u001b[0;32mIn[2], line 1\u001b[0m\n\u001b[0;32m----> 1\u001b[0m \u001b[38;5;28;01mfrom\u001b[39;00m \u001b[38;5;21;01mtensorflow_io\u001b[39;00m\u001b[38;5;21;01m.\u001b[39;00m\u001b[38;5;21;01mbigquery\u001b[39;00m \u001b[38;5;28;01mimport\u001b[39;00m BigQueryClient\n",
      "\u001b[0;31mModuleNotFoundError\u001b[0m: No module named 'tensorflow_io'"
     ]
    }
   ],
   "source": [
    "from tensorflow_io.bigquery import BigQueryClient"
   ]
  },
  {
   "cell_type": "code",
   "execution_count": null,
   "id": "c40e4963",
   "metadata": {},
   "outputs": [],
   "source": [
    "PROJECT_ID = '###google_project_id###' # This is from what you created in your Google Cloud Account."
   ]
  },
  {
   "cell_type": "code",
   "execution_count": null,
   "id": "320c783c",
   "metadata": {},
   "outputs": [],
   "source": [
    "DATASET_GCP_PROJECT_ID = 'bigquery-public-data'"
   ]
  },
  {
   "cell_type": "code",
   "execution_count": null,
   "id": "8819a6d3",
   "metadata": {},
   "outputs": [],
   "source": [
    "DATASET_ID = 'covid19_jhu_csse'"
   ]
  },
  {
   "cell_type": "code",
   "execution_count": null,
   "id": "a29241ec",
   "metadata": {},
   "outputs": [],
   "source": [
    "TABLE_ID = 'summary'"
   ]
  },
  {
   "cell_type": "code",
   "execution_count": null,
   "id": "7abbd789",
   "metadata": {},
   "outputs": [],
   "source": [
    "batch_size = 2048"
   ]
  },
  {
   "cell_type": "code",
   "execution_count": null,
   "id": "d72eb868",
   "metadata": {},
   "outputs": [],
   "source": [
    "client = BigQueryClient()"
   ]
  },
  {
   "cell_type": "code",
   "execution_count": null,
   "id": "30ec9433",
   "metadata": {},
   "outputs": [],
   "source": [
    "read_session = client.read_session(\n",
    "'projects/' + PROJECT_ID,\n",
    "DATASET_GCP_PROJECT_ID, TABLE_ID, DATASET_ID,\n",
    "['province_state', 'country_region', 'confirmed', 'deaths','date', 'recovered'],\n",
    "[tf.string, tf.string, tf.int64, tf.int64, tf.int32,tf.int64],\n",
    "requested_streams=10\n",
    ")"
   ]
  },
  {
   "cell_type": "code",
   "execution_count": null,
   "id": "2d3a239d",
   "metadata": {},
   "outputs": [],
   "source": [
    "dataset = read_session.parallel_read_rows(sloppy=True).batch(batch_size)"
   ]
  },
  {
   "cell_type": "code",
   "execution_count": null,
   "id": "89daed8a",
   "metadata": {},
   "outputs": [],
   "source": [
    "type(dataset)"
   ]
  },
  {
   "cell_type": "code",
   "execution_count": null,
   "id": "9e6f920b",
   "metadata": {},
   "outputs": [],
   "source": [
    "itr = tf.compat.v1.data.make_one_shot_iterator(dataset)"
   ]
  },
  {
   "cell_type": "code",
   "execution_count": null,
   "id": "cac6a102",
   "metadata": {},
   "outputs": [],
   "source": [
    "next(itr)"
   ]
  },
  {
   "cell_type": "code",
   "execution_count": null,
   "id": "c52e822e",
   "metadata": {},
   "outputs": [],
   "source": []
  }
 ],
 "metadata": {
  "kernelspec": {
   "display_name": "Python 3 (ipykernel)",
   "language": "python",
   "name": "python3"
  },
  "language_info": {
   "codemirror_mode": {
    "name": "ipython",
    "version": 3
   },
   "file_extension": ".py",
   "mimetype": "text/x-python",
   "name": "python",
   "nbconvert_exporter": "python",
   "pygments_lexer": "ipython3",
   "version": "3.11.5"
  }
 },
 "nbformat": 4,
 "nbformat_minor": 5
}

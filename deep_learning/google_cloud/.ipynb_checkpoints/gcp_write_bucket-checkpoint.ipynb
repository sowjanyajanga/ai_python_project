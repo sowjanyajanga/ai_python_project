{
 "cells": [
  {
   "cell_type": "code",
   "execution_count": null,
   "id": "04b4f116",
   "metadata": {},
   "outputs": [],
   "source": [
    "# This demonstrats the way to write to a google bucket\n",
    "#   by reading from a public data set bigquery-public-data.covid19_jhu_csse.summary\n",
    "#   and write to a google bucket"
   ]
  },
  {
   "cell_type": "code",
   "execution_count": null,
   "id": "bbe5a937",
   "metadata": {},
   "outputs": [],
   "source": [
    "project_id = '###google_project_id###'"
   ]
  },
  {
   "cell_type": "code",
   "execution_count": null,
   "id": "4ca87d99",
   "metadata": {},
   "outputs": [],
   "source": [
    "%%bigquery mydataframe\n",
    "SELECT * from `bigquery-public-data.covid19_jhu_csse.summary`"
   ]
  },
  {
   "cell_type": "code",
   "execution_count": null,
   "id": "d9e2150d",
   "metadata": {},
   "outputs": [],
   "source": [
    "import pandas as pd"
   ]
  },
  {
   "cell_type": "code",
   "execution_count": null,
   "id": "15277983",
   "metadata": {},
   "outputs": [],
   "source": [
    "mydataframe.to_csv('my_new_data.csv')"
   ]
  },
  {
   "cell_type": "code",
   "execution_count": null,
   "id": "5064bcd3",
   "metadata": {},
   "outputs": [],
   "source": [
    "dataset_id = 'my_new_dataset'"
   ]
  },
  {
   "cell_type": "code",
   "execution_count": null,
   "id": "fe47c4f2",
   "metadata": {},
   "outputs": [],
   "source": [
    "!bq --location=US mk --dataset $dataset_id"
   ]
  },
  {
   "cell_type": "code",
   "execution_count": null,
   "id": "0bb20dc2",
   "metadata": {},
   "outputs": [],
   "source": [
    "!bq \\\n",
    "    --location=US \\\n",
    "    load \\\n",
    "    --autodetect \\\n",
    "    --skip_leading_rows=1 \\\n",
    "    --source_format=CSV \\\n",
    "    {dataset_id}.my_new_data_table \\\n",
    "    'my_new_data.csv'"
   ]
  },
  {
   "cell_type": "code",
   "execution_count": null,
   "id": "2b7dc8d5",
   "metadata": {},
   "outputs": [],
   "source": []
  }
 ],
 "metadata": {
  "kernelspec": {
   "display_name": "Python 3 (ipykernel)",
   "language": "python",
   "name": "python3"
  },
  "language_info": {
   "codemirror_mode": {
    "name": "ipython",
    "version": 3
   },
   "file_extension": ".py",
   "mimetype": "text/x-python",
   "name": "python",
   "nbconvert_exporter": "python",
   "pygments_lexer": "ipython3",
   "version": "3.11.5"
  }
 },
 "nbformat": 4,
 "nbformat_minor": 5
}

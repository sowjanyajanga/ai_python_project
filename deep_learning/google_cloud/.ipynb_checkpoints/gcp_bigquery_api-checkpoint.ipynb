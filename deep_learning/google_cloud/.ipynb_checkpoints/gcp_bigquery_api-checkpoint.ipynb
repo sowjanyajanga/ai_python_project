{
 "cells": [
  {
   "cell_type": "code",
   "execution_count": 3,
   "id": "4e10efb9",
   "metadata": {},
   "outputs": [],
   "source": [
    "from google.cloud import bigquery"
   ]
  },
  {
   "cell_type": "code",
   "execution_count": 2,
   "id": "a099a7e8",
   "metadata": {},
   "outputs": [],
   "source": [
    "project_id ='###google-project-id###'"
   ]
  },
  {
   "cell_type": "code",
   "execution_count": null,
   "id": "4cd647df",
   "metadata": {},
   "outputs": [],
   "source": [
    "client = bigquery.Client(project=project_id)"
   ]
  },
  {
   "cell_type": "code",
   "execution_count": null,
   "id": "63427325",
   "metadata": {},
   "outputs": [],
   "source": [
    "sample_count = 1000"
   ]
  },
  {
   "cell_type": "code",
   "execution_count": null,
   "id": "5f8235eb",
   "metadata": {},
   "outputs": [],
   "source": [
    "row_count = client.query('''\n",
    "SELECT COUNT(*) as total\n",
    "FROM `###google-project-id###.myworkdataset.iris`''').to_dataframe().total[0]"
   ]
  },
  {
   "cell_type": "code",
   "execution_count": null,
   "id": "a1dea48f",
   "metadata": {},
   "outputs": [],
   "source": [
    "df = client.query('''\n",
    "SELECT * FROM\n",
    "`###google-project-id###.myworkdataset.iris`\n",
    "WHERE RAND() < %d/%d\n",
    "''' % (sample_count, row_count)).to_dataframe()"
   ]
  },
  {
   "cell_type": "code",
   "execution_count": null,
   "id": "ac88d311",
   "metadata": {},
   "outputs": [],
   "source": [
    "print('Full dataset has %d rows' % row_count)"
   ]
  },
  {
   "cell_type": "code",
   "execution_count": null,
   "id": "885fc0f4",
   "metadata": {},
   "outputs": [],
   "source": []
  }
 ],
 "metadata": {
  "kernelspec": {
   "display_name": "ai_python_env",
   "language": "python",
   "name": "ai_python_env"
  },
  "language_info": {
   "codemirror_mode": {
    "name": "ipython",
    "version": 3
   },
   "file_extension": ".py",
   "mimetype": "text/x-python",
   "name": "python",
   "nbconvert_exporter": "python",
   "pygments_lexer": "ipython3",
   "version": "3.8.19"
  }
 },
 "nbformat": 4,
 "nbformat_minor": 5
}

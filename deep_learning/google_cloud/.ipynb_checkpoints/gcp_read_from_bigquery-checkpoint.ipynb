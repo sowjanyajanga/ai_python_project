{
 "cells": [
  {
   "cell_type": "code",
   "execution_count": null,
   "id": "9a994d8f",
   "metadata": {},
   "outputs": [],
   "source": [
    "import tensorflow as tf"
   ]
  },
  {
   "cell_type": "code",
   "execution_count": null,
   "id": "54fa73c6",
   "metadata": {},
   "outputs": [],
   "source": [
    "%%bigquery mydataframe\n",
    "SELECT * FROM `<google-project-id>.myworkdataset.iris` LIMIT 1000"
   ]
  },
  {
   "cell_type": "code",
   "execution_count": null,
   "id": "9b9cb54a",
   "metadata": {},
   "outputs": [],
   "source": [
    "type(mydataframe)"
   ]
  },
  {
   "cell_type": "code",
   "execution_count": null,
   "id": "731b70b9",
   "metadata": {},
   "outputs": [],
   "source": [
    "mydataframe"
   ]
  }
 ],
 "metadata": {
  "kernelspec": {
   "display_name": "Python 3 (ipykernel)",
   "language": "python",
   "name": "python3"
  },
  "language_info": {
   "codemirror_mode": {
    "name": "ipython",
    "version": 3
   },
   "file_extension": ".py",
   "mimetype": "text/x-python",
   "name": "python",
   "nbconvert_exporter": "python",
   "pygments_lexer": "ipython3",
   "version": "3.11.5"
  }
 },
 "nbformat": 4,
 "nbformat_minor": 5
}

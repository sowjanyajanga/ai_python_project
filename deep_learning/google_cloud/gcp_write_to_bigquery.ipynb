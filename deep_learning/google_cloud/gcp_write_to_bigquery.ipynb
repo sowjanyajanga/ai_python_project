{
 "cells": [
  {
   "cell_type": "code",
   "execution_count": null,
   "id": "4e804e44",
   "metadata": {},
   "outputs": [],
   "source": [
    "# This demonstrates how data can be stored on to Google BigQuery Data waehouse\n",
    "# It reads from a public dataset and stores that data into a pickle file\n",
    "# then that pickle file data is stored into a new Google BigQuery\n",
    "#  datastore = my_new_dataset\n",
    "#. table_name = my_new_data_table"
   ]
  },
  {
   "cell_type": "code",
   "execution_count": 1,
   "id": "a23c9c2b",
   "metadata": {},
   "outputs": [],
   "source": [
    "project_id = '###google_project_id###'"
   ]
  },
  {
   "cell_type": "code",
   "execution_count": null,
   "id": "4a6746f6",
   "metadata": {},
   "outputs": [],
   "source": [
    "%%bigquery mydataframe\n",
    "SELECT * from `bigquery-public-data.covid19_jhu_csse.summary`"
   ]
  },
  {
   "cell_type": "code",
   "execution_count": null,
   "id": "5d5877f7",
   "metadata": {},
   "outputs": [],
   "source": [
    "import pandas as pd"
   ]
  },
  {
   "cell_type": "code",
   "execution_count": null,
   "id": "3979a5f1",
   "metadata": {},
   "outputs": [],
   "source": [
    "mydataframe.to_csv('my_new_data.csv')"
   ]
  },
  {
   "cell_type": "code",
   "execution_count": null,
   "id": "5a690b0b",
   "metadata": {},
   "outputs": [],
   "source": [
    "dataset_id = 'my_new_dataset'"
   ]
  },
  {
   "cell_type": "code",
   "execution_count": null,
   "id": "c45011d1",
   "metadata": {},
   "outputs": [],
   "source": [
    "!bq --location=US mk --dataset $dataset_id"
   ]
  },
  {
   "cell_type": "code",
   "execution_count": null,
   "id": "a0270997",
   "metadata": {},
   "outputs": [],
   "source": [
    "!bq \\\n",
    "    --location=US \\\n",
    "    load \\\n",
    "    --autodetect \\\n",
    "    --skip_leading_rows=1 \\\n",
    "    --source_format=CSV \\\n",
    "    {dataset_id}.my_new_data_table \\\n",
    "    'my_new_data.csv'"
   ]
  }
 ],
 "metadata": {
  "kernelspec": {
   "display_name": "Python 3 (ipykernel)",
   "language": "python",
   "name": "python3"
  },
  "language_info": {
   "codemirror_mode": {
    "name": "ipython",
    "version": 3
   },
   "file_extension": ".py",
   "mimetype": "text/x-python",
   "name": "python",
   "nbconvert_exporter": "python",
   "pygments_lexer": "ipython3",
   "version": "3.11.5"
  }
 },
 "nbformat": 4,
 "nbformat_minor": 5
}
